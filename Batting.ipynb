{
  "nbformat": 4,
  "nbformat_minor": 0,
  "metadata": {
    "colab": {
      "provenance": [],
      "authorship_tag": "ABX9TyOfL7fyk+TH6ann7AvBQeUH",
      "include_colab_link": true
    },
    "kernelspec": {
      "name": "ir",
      "display_name": "R"
    },
    "language_info": {
      "name": "R"
    }
  },
  "cells": [
    {
      "cell_type": "markdown",
      "metadata": {
        "id": "view-in-github",
        "colab_type": "text"
      },
      "source": [
        "<a href=\"https://colab.research.google.com/github/garettprestholdt/myrepos/blob/main/Batting.ipynb\" target=\"_parent\"><img src=\"https://colab.research.google.com/assets/colab-badge.svg\" alt=\"Open In Colab\"/></a>"
      ]
    },
    {
      "cell_type": "code",
      "execution_count": 1,
      "metadata": {
        "colab": {
          "base_uri": "https://localhost:8080/"
        },
        "collapsed": true,
        "id": "oy7x1UgUypqf",
        "outputId": "cd4fc8ff-5967-478a-bf01-073fd26f9c0f"
      },
      "outputs": [
        {
          "output_type": "stream",
          "name": "stderr",
          "text": [
            "── \u001b[1mAttaching core tidyverse packages\u001b[22m ──────────────────────── tidyverse 2.0.0 ──\n",
            "\u001b[32m✔\u001b[39m \u001b[34mdplyr    \u001b[39m 1.1.4     \u001b[32m✔\u001b[39m \u001b[34mreadr    \u001b[39m 2.1.5\n",
            "\u001b[32m✔\u001b[39m \u001b[34mforcats  \u001b[39m 1.0.0     \u001b[32m✔\u001b[39m \u001b[34mstringr  \u001b[39m 1.5.1\n",
            "\u001b[32m✔\u001b[39m \u001b[34mggplot2  \u001b[39m 3.5.2     \u001b[32m✔\u001b[39m \u001b[34mtibble   \u001b[39m 3.3.0\n",
            "\u001b[32m✔\u001b[39m \u001b[34mlubridate\u001b[39m 1.9.4     \u001b[32m✔\u001b[39m \u001b[34mtidyr    \u001b[39m 1.3.1\n",
            "\u001b[32m✔\u001b[39m \u001b[34mpurrr    \u001b[39m 1.1.0     \n",
            "── \u001b[1mConflicts\u001b[22m ────────────────────────────────────────── tidyverse_conflicts() ──\n",
            "\u001b[31m✖\u001b[39m \u001b[34mdplyr\u001b[39m::\u001b[32mfilter()\u001b[39m masks \u001b[34mstats\u001b[39m::filter()\n",
            "\u001b[31m✖\u001b[39m \u001b[34mdplyr\u001b[39m::\u001b[32mlag()\u001b[39m    masks \u001b[34mstats\u001b[39m::lag()\n",
            "\u001b[36mℹ\u001b[39m Use the conflicted package (\u001b[3m\u001b[34m<http://conflicted.r-lib.org/>\u001b[39m\u001b[23m) to force all conflicts to become errors\n"
          ]
        }
      ],
      "source": [
        "library(tidyverse)"
      ]
    },
    {
      "cell_type": "code",
      "source": [
        "batting <- read.csv(\"https://github.com/garettprestholdt/myrepos/raw/refs/heads/main/data/Batting.csv\")\n",
        "batting %>% head(10)"
      ],
      "metadata": {
        "colab": {
          "base_uri": "https://localhost:8080/",
          "height": 411
        },
        "id": "mQvM3x5hzWae",
        "outputId": "34297949-ed10-48ef-a8bd-6184203b4870"
      },
      "execution_count": 7,
      "outputs": [
        {
          "output_type": "display_data",
          "data": {
            "text/html": [
              "<table class=\"dataframe\">\n",
              "<caption>A data.frame: 10 × 22</caption>\n",
              "<thead>\n",
              "\t<tr><th></th><th scope=col>playerID</th><th scope=col>yearID</th><th scope=col>stint</th><th scope=col>teamID</th><th scope=col>lgID</th><th scope=col>G</th><th scope=col>AB</th><th scope=col>R</th><th scope=col>H</th><th scope=col>X2B</th><th scope=col>⋯</th><th scope=col>RBI</th><th scope=col>SB</th><th scope=col>CS</th><th scope=col>BB</th><th scope=col>SO</th><th scope=col>IBB</th><th scope=col>HBP</th><th scope=col>SH</th><th scope=col>SF</th><th scope=col>GIDP</th></tr>\n",
              "\t<tr><th></th><th scope=col>&lt;chr&gt;</th><th scope=col>&lt;int&gt;</th><th scope=col>&lt;int&gt;</th><th scope=col>&lt;chr&gt;</th><th scope=col>&lt;chr&gt;</th><th scope=col>&lt;int&gt;</th><th scope=col>&lt;int&gt;</th><th scope=col>&lt;int&gt;</th><th scope=col>&lt;int&gt;</th><th scope=col>&lt;int&gt;</th><th scope=col>⋯</th><th scope=col>&lt;int&gt;</th><th scope=col>&lt;int&gt;</th><th scope=col>&lt;int&gt;</th><th scope=col>&lt;int&gt;</th><th scope=col>&lt;int&gt;</th><th scope=col>&lt;int&gt;</th><th scope=col>&lt;int&gt;</th><th scope=col>&lt;int&gt;</th><th scope=col>&lt;int&gt;</th><th scope=col>&lt;int&gt;</th></tr>\n",
              "</thead>\n",
              "<tbody>\n",
              "\t<tr><th scope=row>1</th><td>abercda01</td><td>1871</td><td>1</td><td>TRO</td><td>NA</td><td> 1</td><td>  4</td><td> 0</td><td> 0</td><td> 0</td><td>⋯</td><td> 0</td><td> 0</td><td>0</td><td> 0</td><td>0</td><td>NA</td><td>NA</td><td>NA</td><td>NA</td><td>0</td></tr>\n",
              "\t<tr><th scope=row>2</th><td>addybo01 </td><td>1871</td><td>1</td><td>RC1</td><td>NA</td><td>25</td><td>118</td><td>30</td><td>32</td><td> 6</td><td>⋯</td><td>13</td><td> 8</td><td>1</td><td> 4</td><td>0</td><td>NA</td><td>NA</td><td>NA</td><td>NA</td><td>0</td></tr>\n",
              "\t<tr><th scope=row>3</th><td>allisar01</td><td>1871</td><td>1</td><td>CL1</td><td>NA</td><td>29</td><td>137</td><td>28</td><td>40</td><td> 4</td><td>⋯</td><td>19</td><td> 3</td><td>1</td><td> 2</td><td>5</td><td>NA</td><td>NA</td><td>NA</td><td>NA</td><td>1</td></tr>\n",
              "\t<tr><th scope=row>4</th><td>allisdo01</td><td>1871</td><td>1</td><td>WS3</td><td>NA</td><td>27</td><td>133</td><td>28</td><td>44</td><td>10</td><td>⋯</td><td>27</td><td> 1</td><td>1</td><td> 0</td><td>2</td><td>NA</td><td>NA</td><td>NA</td><td>NA</td><td>0</td></tr>\n",
              "\t<tr><th scope=row>5</th><td>ansonca01</td><td>1871</td><td>1</td><td>RC1</td><td>NA</td><td>25</td><td>120</td><td>29</td><td>39</td><td>11</td><td>⋯</td><td>16</td><td> 6</td><td>2</td><td> 2</td><td>1</td><td>NA</td><td>NA</td><td>NA</td><td>NA</td><td>0</td></tr>\n",
              "\t<tr><th scope=row>6</th><td>armstbo01</td><td>1871</td><td>1</td><td>FW1</td><td>NA</td><td>12</td><td> 49</td><td> 9</td><td>11</td><td> 2</td><td>⋯</td><td> 5</td><td> 0</td><td>1</td><td> 0</td><td>1</td><td>NA</td><td>NA</td><td>NA</td><td>NA</td><td>0</td></tr>\n",
              "\t<tr><th scope=row>7</th><td>barkeal01</td><td>1871</td><td>1</td><td>RC1</td><td>NA</td><td> 1</td><td>  4</td><td> 0</td><td> 1</td><td> 0</td><td>⋯</td><td> 2</td><td> 0</td><td>0</td><td> 1</td><td>0</td><td>NA</td><td>NA</td><td>NA</td><td>NA</td><td>0</td></tr>\n",
              "\t<tr><th scope=row>8</th><td>barnero01</td><td>1871</td><td>1</td><td>BS1</td><td>NA</td><td>31</td><td>157</td><td>66</td><td>63</td><td>10</td><td>⋯</td><td>34</td><td>11</td><td>6</td><td>13</td><td>1</td><td>NA</td><td>NA</td><td>NA</td><td>NA</td><td>1</td></tr>\n",
              "\t<tr><th scope=row>9</th><td>barrebi01</td><td>1871</td><td>1</td><td>FW1</td><td>NA</td><td> 1</td><td>  5</td><td> 1</td><td> 1</td><td> 1</td><td>⋯</td><td> 1</td><td> 0</td><td>0</td><td> 0</td><td>0</td><td>NA</td><td>NA</td><td>NA</td><td>NA</td><td>0</td></tr>\n",
              "\t<tr><th scope=row>10</th><td>barrofr01</td><td>1871</td><td>1</td><td>BS1</td><td>NA</td><td>18</td><td> 86</td><td>13</td><td>13</td><td> 2</td><td>⋯</td><td>11</td><td> 1</td><td>0</td><td> 0</td><td>0</td><td>NA</td><td>NA</td><td>NA</td><td>NA</td><td>0</td></tr>\n",
              "</tbody>\n",
              "</table>\n"
            ],
            "text/markdown": "\nA data.frame: 10 × 22\n\n| <!--/--> | playerID &lt;chr&gt; | yearID &lt;int&gt; | stint &lt;int&gt; | teamID &lt;chr&gt; | lgID &lt;chr&gt; | G &lt;int&gt; | AB &lt;int&gt; | R &lt;int&gt; | H &lt;int&gt; | X2B &lt;int&gt; | ⋯ ⋯ | RBI &lt;int&gt; | SB &lt;int&gt; | CS &lt;int&gt; | BB &lt;int&gt; | SO &lt;int&gt; | IBB &lt;int&gt; | HBP &lt;int&gt; | SH &lt;int&gt; | SF &lt;int&gt; | GIDP &lt;int&gt; |\n|---|---|---|---|---|---|---|---|---|---|---|---|---|---|---|---|---|---|---|---|---|---|\n| 1 | abercda01 | 1871 | 1 | TRO | NA |  1 |   4 |  0 |  0 |  0 | ⋯ |  0 |  0 | 0 |  0 | 0 | NA | NA | NA | NA | 0 |\n| 2 | addybo01  | 1871 | 1 | RC1 | NA | 25 | 118 | 30 | 32 |  6 | ⋯ | 13 |  8 | 1 |  4 | 0 | NA | NA | NA | NA | 0 |\n| 3 | allisar01 | 1871 | 1 | CL1 | NA | 29 | 137 | 28 | 40 |  4 | ⋯ | 19 |  3 | 1 |  2 | 5 | NA | NA | NA | NA | 1 |\n| 4 | allisdo01 | 1871 | 1 | WS3 | NA | 27 | 133 | 28 | 44 | 10 | ⋯ | 27 |  1 | 1 |  0 | 2 | NA | NA | NA | NA | 0 |\n| 5 | ansonca01 | 1871 | 1 | RC1 | NA | 25 | 120 | 29 | 39 | 11 | ⋯ | 16 |  6 | 2 |  2 | 1 | NA | NA | NA | NA | 0 |\n| 6 | armstbo01 | 1871 | 1 | FW1 | NA | 12 |  49 |  9 | 11 |  2 | ⋯ |  5 |  0 | 1 |  0 | 1 | NA | NA | NA | NA | 0 |\n| 7 | barkeal01 | 1871 | 1 | RC1 | NA |  1 |   4 |  0 |  1 |  0 | ⋯ |  2 |  0 | 0 |  1 | 0 | NA | NA | NA | NA | 0 |\n| 8 | barnero01 | 1871 | 1 | BS1 | NA | 31 | 157 | 66 | 63 | 10 | ⋯ | 34 | 11 | 6 | 13 | 1 | NA | NA | NA | NA | 1 |\n| 9 | barrebi01 | 1871 | 1 | FW1 | NA |  1 |   5 |  1 |  1 |  1 | ⋯ |  1 |  0 | 0 |  0 | 0 | NA | NA | NA | NA | 0 |\n| 10 | barrofr01 | 1871 | 1 | BS1 | NA | 18 |  86 | 13 | 13 |  2 | ⋯ | 11 |  1 | 0 |  0 | 0 | NA | NA | NA | NA | 0 |\n\n",
            "text/latex": "A data.frame: 10 × 22\n\\begin{tabular}{r|lllllllllllllllllllll}\n  & playerID & yearID & stint & teamID & lgID & G & AB & R & H & X2B & ⋯ & RBI & SB & CS & BB & SO & IBB & HBP & SH & SF & GIDP\\\\\n  & <chr> & <int> & <int> & <chr> & <chr> & <int> & <int> & <int> & <int> & <int> & ⋯ & <int> & <int> & <int> & <int> & <int> & <int> & <int> & <int> & <int> & <int>\\\\\n\\hline\n\t1 & abercda01 & 1871 & 1 & TRO & NA &  1 &   4 &  0 &  0 &  0 & ⋯ &  0 &  0 & 0 &  0 & 0 & NA & NA & NA & NA & 0\\\\\n\t2 & addybo01  & 1871 & 1 & RC1 & NA & 25 & 118 & 30 & 32 &  6 & ⋯ & 13 &  8 & 1 &  4 & 0 & NA & NA & NA & NA & 0\\\\\n\t3 & allisar01 & 1871 & 1 & CL1 & NA & 29 & 137 & 28 & 40 &  4 & ⋯ & 19 &  3 & 1 &  2 & 5 & NA & NA & NA & NA & 1\\\\\n\t4 & allisdo01 & 1871 & 1 & WS3 & NA & 27 & 133 & 28 & 44 & 10 & ⋯ & 27 &  1 & 1 &  0 & 2 & NA & NA & NA & NA & 0\\\\\n\t5 & ansonca01 & 1871 & 1 & RC1 & NA & 25 & 120 & 29 & 39 & 11 & ⋯ & 16 &  6 & 2 &  2 & 1 & NA & NA & NA & NA & 0\\\\\n\t6 & armstbo01 & 1871 & 1 & FW1 & NA & 12 &  49 &  9 & 11 &  2 & ⋯ &  5 &  0 & 1 &  0 & 1 & NA & NA & NA & NA & 0\\\\\n\t7 & barkeal01 & 1871 & 1 & RC1 & NA &  1 &   4 &  0 &  1 &  0 & ⋯ &  2 &  0 & 0 &  1 & 0 & NA & NA & NA & NA & 0\\\\\n\t8 & barnero01 & 1871 & 1 & BS1 & NA & 31 & 157 & 66 & 63 & 10 & ⋯ & 34 & 11 & 6 & 13 & 1 & NA & NA & NA & NA & 1\\\\\n\t9 & barrebi01 & 1871 & 1 & FW1 & NA &  1 &   5 &  1 &  1 &  1 & ⋯ &  1 &  0 & 0 &  0 & 0 & NA & NA & NA & NA & 0\\\\\n\t10 & barrofr01 & 1871 & 1 & BS1 & NA & 18 &  86 & 13 & 13 &  2 & ⋯ & 11 &  1 & 0 &  0 & 0 & NA & NA & NA & NA & 0\\\\\n\\end{tabular}\n",
            "text/plain": [
              "   playerID  yearID stint teamID lgID G  AB  R  H  X2B ⋯ RBI SB CS BB SO IBB\n",
              "1  abercda01 1871   1     TRO    NA    1   4  0  0  0  ⋯  0   0 0   0 0  NA \n",
              "2  addybo01  1871   1     RC1    NA   25 118 30 32  6  ⋯ 13   8 1   4 0  NA \n",
              "3  allisar01 1871   1     CL1    NA   29 137 28 40  4  ⋯ 19   3 1   2 5  NA \n",
              "4  allisdo01 1871   1     WS3    NA   27 133 28 44 10  ⋯ 27   1 1   0 2  NA \n",
              "5  ansonca01 1871   1     RC1    NA   25 120 29 39 11  ⋯ 16   6 2   2 1  NA \n",
              "6  armstbo01 1871   1     FW1    NA   12  49  9 11  2  ⋯  5   0 1   0 1  NA \n",
              "7  barkeal01 1871   1     RC1    NA    1   4  0  1  0  ⋯  2   0 0   1 0  NA \n",
              "8  barnero01 1871   1     BS1    NA   31 157 66 63 10  ⋯ 34  11 6  13 1  NA \n",
              "9  barrebi01 1871   1     FW1    NA    1   5  1  1  1  ⋯  1   0 0   0 0  NA \n",
              "10 barrofr01 1871   1     BS1    NA   18  86 13 13  2  ⋯ 11   1 0   0 0  NA \n",
              "   HBP SH SF GIDP\n",
              "1  NA  NA NA 0   \n",
              "2  NA  NA NA 0   \n",
              "3  NA  NA NA 1   \n",
              "4  NA  NA NA 0   \n",
              "5  NA  NA NA 0   \n",
              "6  NA  NA NA 0   \n",
              "7  NA  NA NA 0   \n",
              "8  NA  NA NA 1   \n",
              "9  NA  NA NA 0   \n",
              "10 NA  NA NA 0   "
            ]
          },
          "metadata": {}
        }
      ]
    }
  ]
}